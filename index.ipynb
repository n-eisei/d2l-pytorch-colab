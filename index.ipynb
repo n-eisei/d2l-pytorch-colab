{
  "cells": [
    {
      "cell_type": "markdown",
      "id": "9f3c9992",
      "metadata": {},
      "source": "\n# ディープラーニングを詳しく知る\n\n```\n.. raw:: html :file: frontpage.html\n```\n\n :begin_tab:toc\n- [章の序文/索引](chapter_preface/index.ipynb)\n- [章_インストール/インデックス](chapter_installation/index.ipynb)\n- [章表記/インデックス](chapter_notation/index.ipynb):end_tab:\n\n :begin_tab:toc\n- [章の紹介/索引](chapter_introduction/index.ipynb)\n- [Chapter_preliminaries/index](chapter_preliminaries/index.ipynb)\n- [章_線形回帰/インデックス](chapter_linear-regression/index.ipynb)\n- [章_線形分類/インデックス](chapter_linear-classification/index.ipynb)\n- [Chapter_multilayer-perceptrons/index](chapter_multilayer-perceptrons/index.ipynb)\n-  [Chapter_builders-ガイド/インデックス](chapter_builders-guide/index.ipynb)\n- [Chapter_convolutional-neural-networks/index](chapter_convolutional-neural-networks/index.ipynb)\n-  [Chapter_convolutional-modern/index](chapter_convolutional-modern/index.ipynb)\n-  [Chapter_recurrent-neural-networks/index](chapter_recurrent-neural-networks/index.ipynb)\n-  [Chapter_recurrent-modern/index](chapter_recurrent-modern/index.ipynb)\n-  [Chapter_注意メカニズムとトランスフォーマー/インデックス](chapter_attention-mechanisms-and-transformers/index.ipynb)\n- [章の最適化/インデックス](chapter_optimization/index.ipynb)\n- [Chapter_計算パフォーマンス/インデックス](chapter_computational-performance/index.ipynb)\n- [Chapter_コンピュータビジョン/インデックス](chapter_computer-vision/index.ipynb)\n- [Chapter_自然言語処理事前学習/index](chapter_natural-language-processing-pretraining/index.ipynb)\n-  [Chapter_自然言語処理アプリケーション/index](chapter_natural-language-processing-applications/index.ipynb)\n- [章_強化学習/インデックス](chapter_reinforcement-learning/index.ipynb)\n- [Chapter_gaussian-processes/index](chapter_gaussian-processes/index.ipynb)\n- [章_ハイパーパラメータ-最適化/インデックス](chapter_hyperparameter-optimization/index.ipynb)\n- [Chapter_generative-adversarial-networks/index](chapter_generative-adversarial-networks/index.ipynb)\n-  [Chapter_recommender-systems/index](chapter_recommender-systems/index.ipynb)\n-  [Chapter_appendix-ディープラーニングのための数学/インデックス](chapter_appendix-mathematics-for-deep-learning/index.ipynb)\n- [Chapter_appendix-深層学習用ツール/index](chapter_appendix-tools-for-deep-learning/index.ipynb) :end_tab:\n\n :begin_tab:toc\n-  [Chapter_references/zreferences](chapter_references/zreferences.ipynb) :end_tab:\n"
    }
  ],
  "metadata": {},
  "nbformat": 4,
  "nbformat_minor": 5
}