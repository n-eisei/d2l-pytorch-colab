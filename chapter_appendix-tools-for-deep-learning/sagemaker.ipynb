{
  "cells": [
    {
      "cell_type": "markdown",
      "id": "fcfe06a1",
      "metadata": {},
      "source": "\n# Amazon SageMaker の使用\n\n:ラベル: `sec_sagemaker`\n\nディープ ラーニング アプリケーションは、ローカル マシンが提供できる量を簡単に超えるほど大量の計算リソースを必要とする場合があります。クラウド コンピューティング サービスを使用すると、より強力なコンピュータを使用して、本書の GPU を多用するコードをより簡単に実行できます。このセクションでは、Amazon SageMaker を使用して本書のコードを実行する方法を紹介します。\n\n## サインアップ\n\nまず、https://aws.amazon.com/ でアカウントにサインアップする必要があります。セキュリティを強化するために、2 要素認証の使用をお勧めします。また、実行中のインスタンスの停止を忘れた場合などの予期せぬ事態を避けるために、詳細な請求と支出のアラートを設定することもお勧めします。 AWS アカウントにログインした後、[コンソール](http://console.aws.amazon.com/)にアクセスして「Amazon SageMaker」を検索し (:numref: `fig_sagemaker`参照)、それをクリックして SageMaker パネルを開きます。\n\n![](../img/sagemaker.png) :幅: `300px` :ラベル: `fig_sagemaker`\n\n##  SageMaker インスタンスの作成\n\n次に、 :numref: `fig_sagemaker-create`の説明に従ってノートブック インスタンスを作成しましょう。 \n\n![](../img/sagemaker-create.png):幅: `400px` :ラベル: `fig_sagemaker-create`\n\n SageMaker は、さまざまな計算能力と価格を持つ複数の[インスタンス タイプ](https://aws.amazon.com/sagemaker/pricing/instance-types/)を提供します。ノートブック インスタンスを作成するときに、その名前とタイプを指定できます。 :numref: `fig_sagemaker-create-2`では、 `ml.p3.2xlarge`を選択します。1 つの Tesla V100 GPU と 8 コア CPU を備えたこのインスタンスは、本のほとんどの部分に対して十分に強力です。 \n\n![](../img/sagemaker-create-2.png) :幅: `400px` :ラベル: `fig_sagemaker-create-2`\n"
    },
    {
      "cell_type": "markdown",
      "id": "a0bc1f34",
      "metadata": {},
      "source": "\nSageMaker で実行するための ipynb 形式の書籍全体は、https://github.com/d2l-ai/d2l-pytorch-sagemaker で入手できます。この GitHub リポジトリ URL (:numref: `fig_sagemaker-create-3` ) を指定すると、インスタンスの作成時に SageMaker がそのクローンを作成できるようになります。\n"
    },
    {
      "cell_type": "markdown",
      "id": "3be6d4be",
      "metadata": {},
      "source": "\n![](../img/sagemaker-create-3.png) :幅: `400px` :ラベル: `fig_sagemaker-create-3`\n\n## インスタンスの実行と停止\n\nインスタンスの作成には数分かかる場合があります。インスタンスの準備ができたら、その横にある「Open Jupyter」リンク (:numref: `fig_sagemaker-open` ) をクリックすると、このインスタンスでこの本のすべての Jupyter ノートブックを編集して実行できるようになります (:numref: `sec_jupyter`の手順と同様) ）。 \n\n![](../img/sagemaker-open.png) :幅: `400px` :ラベル: `fig_sagemaker-open`\n\n作業が終了したら、追加料金が発生しないようにインスタンスを停止することを忘れないでください (:numref: `fig_sagemaker-stop` )。 \n\n![](../img/sagemaker-stop.png) :幅: `300px` :ラベル: `fig_sagemaker-stop`\n\n## ノートブックの更新\n"
    },
    {
      "cell_type": "markdown",
      "id": "4a5af59d",
      "metadata": {},
      "source": "\nこのオープンソース書籍のノートブックは、GitHub の[d2l-ai/d2l-pytorch-sagemaker](https://github.com/d2l-ai/d2l-pytorch-sagemaker)リポジトリで定期的に更新されます。最新バージョンに更新するには、SageMaker インスタンスでターミナル (:numref: `fig_sagemaker-terminal` ) を開きます。\n"
    },
    {
      "cell_type": "markdown",
      "id": "4be890f7",
      "metadata": {},
      "source": "\n![](../img/sagemaker-terminal.png) :width: `300px` :label: `fig_sagemaker-terminal`\n\nリモート リポジトリから更新を取得する前に、ローカルの変更をコミットすることもできます。それ以外の場合は、ターミナルで次のコマンドを使用して、ローカルの変更をすべて破棄します。\n"
    },
    {
      "cell_type": "markdown",
      "id": "7b68b1a9",
      "metadata": {},
      "source": "\n```\ncd SageMaker/d2l-pytorch-sagemaker/ git reset --hard git pull\n```\n"
    },
    {
      "cell_type": "markdown",
      "id": "a16e5d91",
      "metadata": {},
      "source": "\n## まとめ\n- Amazon SageMaker を使用してノートブック インスタンスを作成し、この本の GPU を多用するコードを実行できます。\n-  Amazon SageMaker インスタンスのターミナルを介してノートブックを更新できます。\n\n## 演習\n1. Amazon SageMaker を使用して、GPU を必要とするセクションを編集して実行します。\n1. ターミナルを開いて、この本のすべてのノートブックをホストするローカル ディレクトリにアクセスします。\n\n[ディスカッション](https://discuss.d2l.ai/t/422)\n"
    }
  ],
  "metadata": {},
  "nbformat": 4,
  "nbformat_minor": 5
}