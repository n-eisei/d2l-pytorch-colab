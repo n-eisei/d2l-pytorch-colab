{
  "cells": [
    {
      "cell_type": "markdown",
      "id": "5da816fc",
      "metadata": {},
      "source": "\n# Google Colab の使用\n\n:ラベル: `sec_colab`\n\n :numref: `sec_sagemaker`および :numref: `sec_aws`で、AWS 上でこの本を実行する方法を紹介しました。 Google アカウントをお持ちの場合は、 [Google Colab](https://colab.research.google.com/)でこの書籍を実行することもできます。\n\n Colab でセクションのコードを実行するには、 :numref: `fig_colab`に示すように、 `Colab`ボタンをクリックするだけです。\n\n![](../img/colab.png) :幅: `300px` :ラベル: `fig_colab`\n\nコード セルを初めて実行する場合は、 :numref: `fig_colab2`に示すような警告メッセージが表示されます。 「とにかく実行」をクリックして無視してください。 \n\n![](../img/colab-2.png) :幅: `300px` :ラベル: `fig_colab2`\n\n次に、Colab はインスタンスに接続して、このセクションのコードを実行します。具体的には、GPU が必要な場合、Colab は GPU インスタンスへの接続を自動的に要求されます。\n\n## まとめ\n- Google Colab を使用して、この本の各セクションのコードを実行できます。\n- この本のいずれかのセクションで GPU が必要な場合、Colab は GPU インスタンスに接続するように要求されます。\n\n## 演習\n1. Google Colab を使用して、この本の任意のセクションを開きます。\n1.  Google Colab を使用して、GPU を必要とするセクションを編集して実行します。\n\n[ディスカッション](https://discuss.d2l.ai/t/424)\n"
    }
  ],
  "metadata": {},
  "nbformat": 4,
  "nbformat_minor": 5
}