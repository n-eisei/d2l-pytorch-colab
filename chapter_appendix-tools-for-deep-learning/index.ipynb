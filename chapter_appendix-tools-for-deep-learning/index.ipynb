{
  "cells": [
    {
      "cell_type": "markdown",
      "id": "133581be",
      "metadata": {},
      "source": "\n# 付録: 深層学習用ツール\n\n:label: `chap_appendix_tools`\n\n *『Dive into Deep Learning』を*最大限に活用するために、このインタラクティブなオープンソース書籍の実行や貢献など、この付録でさまざまなツールについて説明します。\n\n :begin_tab:toc\n- [ジュピター](jupyter.ipynb)\n- [セージメーカー](sagemaker.ipynb)\n- [AWS](aws.ipynb)\n- [コラボ](colab.ipynb)\n- [サーバーの選択-GPU](selecting-servers-gpus.ipynb)\n- [貢献する](contributing.ipynb)\n- [ユーティリティ](utils.ipynb)\n- [d2l](d2l.ipynb) :end_tab:\n"
    }
  ],
  "metadata": {},
  "nbformat": 4,
  "nbformat_minor": 5
}