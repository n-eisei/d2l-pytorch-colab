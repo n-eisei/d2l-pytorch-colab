{
  "cells": [
    {
      "cell_type": "markdown",
      "id": "25d31d63",
      "metadata": {},
      "source": "\n# `d2l` API ドキュメント\n\n:ラベル: `sec_d2l`\n\nこのセクションでは、 `d2l`パッケージ内のクラスと関数 (アルファベット順にソート) が表示され、それらが本の中で定義されている場所が示されているため、より詳細な実装と説明を見つけることができます。 [GitHub リポジトリ](https://github.com/d2l-ai/d2l-en/tree/master/d2l)のソース コードも参照してください。\n"
    },
    {
      "cell_type": "markdown",
      "id": "1dadcb24",
      "metadata": {},
      "source": "\n```\n\n.. currentmodule:: d2l.torch\n\n\n```\n"
    },
    {
      "cell_type": "markdown",
      "id": "8311c5e4",
      "metadata": {},
      "source": "\n## クラス\n\n```\n.. autoclass:: AdditiveAttention :members: .. autoclass:: AddNorm :members: .. autoclass:: AttentionDecoder :members: .. autoclass:: Classifier :members: .. autoclass:: DataModule :members: .. autoclass:: Decoder :members: .. autoclass:: DotProductAttention :members: .. autoclass:: Encoder :members: .. autoclass:: EncoderDecoder :members: .. autoclass:: FashionMNIST :members: .. autoclass:: GRU :members: .. autoclass:: HyperParameters :members: .. autoclass:: LeNet :members: .. autoclass:: LinearRegression :members: .. autoclass:: LinearRegressionScratch :members: .. autoclass:: Module :members: .. autoclass:: MTFraEng :members: .. autoclass:: MultiHeadAttention :members: .. autoclass:: PositionalEncoding :members: .. autoclass:: PositionWiseFFN :members: .. autoclass:: ProgressBoard :members: .. autoclass:: Residual :members: .. autoclass:: ResNeXtBlock :members: .. autoclass:: RNN :members: .. autoclass:: RNNLM :members: .. autoclass:: RNNLMScratch :members: .. autoclass:: RNNScratch :members: .. autoclass:: Seq2Seq :members: .. autoclass:: Seq2SeqEncoder :members: .. autoclass:: SGD :members: .. autoclass:: SoftmaxRegression :members: .. autoclass:: SyntheticRegressionData :members: .. autoclass:: TimeMachine :members: .. autoclass:: Trainer :members: .. autoclass:: TransformerEncoder :members: .. autoclass:: TransformerEncoderBlock :members: .. autoclass:: Vocab :members:\n```\n\n## 機能\n\n```\n.. autofunction:: add_to_class .. autofunction:: bleu .. autofunction:: check_len .. autofunction:: check_shape .. autofunction:: corr2d .. autofunction:: cpu .. autofunction:: gpu .. autofunction:: init_cnn .. autofunction:: init_seq2seq .. autofunction:: masked_softmax .. autofunction:: num_gpus .. autofunction:: plot .. autofunction:: set_axes .. autofunction:: set_figsize .. autofunction:: show_heatmaps .. autofunction:: show_list_len_pair_hist .. autofunction:: try_all_gpus .. autofunction:: try_gpu .. autofunction:: use_svg_display\n```\n"
    }
  ],
  "metadata": {},
  "nbformat": 4,
  "nbformat_minor": 5
}