{
  "cells": [
    {
      "cell_type": "markdown",
      "id": "66ebc48b",
      "metadata": {},
      "source": "\n# パラメータの初期化\n\nパラメータにアクセスする方法がわかったので、パラメータを適切に初期化する方法を見てみましょう。 :numref: `sec_numerical_stability`で適切な初期化の必要性について説明しました。深層学習フレームワークは、その層にデフォルトのランダム初期化を提供します。ただし、他のさまざまなプロトコルに従って重みを初期化したい場合もよくあります。このフレームワークは、最も一般的に使用されるプロトコルを提供し、カスタム初期化子を作成することもできます。\n"
    },
    {
      "cell_type": "code",
      "execution_count": 1,
      "id": "570e13db",
      "metadata": {},
      "outputs": [],
      "source": [
        "import torch\n",
        "from torch import nn"
      ]
    },
    {
      "cell_type": "markdown",
      "id": "8d7408e3",
      "metadata": {},
      "source": "\nデフォルトでは、PyTorch は、入力および出力の次元に従って計算された範囲から描画することにより、重み行列とバイアス行列を均一に初期化します。 PyTorch の`nn.init`モジュールは、さまざまなプリセット初期化メソッドを提供します。\n"
    },
    {
      "cell_type": "code",
      "execution_count": 2,
      "id": "cb7da75c",
      "metadata": {},
      "outputs": [
        {
          "data": {
            "text/plain": [
              "torch.Size([2, 1])"
            ]
          },
          "execution_count": 2,
          "metadata": {},
          "output_type": "execute_result"
        }
      ],
      "source": [
        "net = nn.Sequential(nn.LazyLinear(8), nn.ReLU(), nn.LazyLinear(1))\n",
        "X = torch.rand(size=(2, 4))\n",
        "net(X).shape"
      ]
    },
    {
      "cell_type": "markdown",
      "id": "e0716f48",
      "metadata": {},
      "source": "\n## [**組み込みの初期化**]\n\n組み込みイニシャライザを呼び出すことから始めましょう。以下のコードは、すべての重みパラメータを標準偏差 0.01 のガウス確率変数として初期化し、バイアス パラメータをゼロにクリアします。\n"
    },
    {
      "cell_type": "code",
      "execution_count": 3,
      "id": "18f5f07b",
      "metadata": {},
      "outputs": [
        {
          "data": {
            "text/plain": [
              "(tensor([-0.0089,  0.0039, -0.0204, -0.0059]), tensor(0.))"
            ]
          },
          "execution_count": 3,
          "metadata": {},
          "output_type": "execute_result"
        }
      ],
      "source": [
        "def init_normal(module):\n",
        "    if type(module) == nn.Linear:\n",
        "        nn.init.normal_(module.weight, mean=0, std=0.01)\n",
        "        nn.init.zeros_(module.bias)\n",
        "\n",
        "net.apply(init_normal)\n",
        "net[0].weight.data[0], net[0].bias.data[0]"
      ]
    },
    {
      "cell_type": "markdown",
      "id": "e1cb15e1",
      "metadata": {},
      "source": "\nすべてのパラメータを特定の定数値 (たとえば 1) に初期化することもできます。\n"
    },
    {
      "cell_type": "code",
      "execution_count": 4,
      "id": "2b6ecca1",
      "metadata": {},
      "outputs": [
        {
          "data": {
            "text/plain": [
              "(tensor([1., 1., 1., 1.]), tensor(0.))"
            ]
          },
          "execution_count": 4,
          "metadata": {},
          "output_type": "execute_result"
        }
      ],
      "source": [
        "def init_constant(module):\n",
        "    if type(module) == nn.Linear:\n",
        "        nn.init.constant_(module.weight, 1)\n",
        "        nn.init.zeros_(module.bias)\n",
        "\n",
        "net.apply(init_constant)\n",
        "net[0].weight.data[0], net[0].bias.data[0]"
      ]
    },
    {
      "cell_type": "markdown",
      "id": "b21ac3e3",
      "metadata": {},
      "source": "\n[**特定のブロックに異なる初期化子を適用することもできます。** ] たとえば、以下では、最初の層を Xavier イニシャライザで初期化し、2 番目の層を定数値 42 に初期化します。\n"
    },
    {
      "cell_type": "code",
      "execution_count": 5,
      "id": "572ce749",
      "metadata": {},
      "outputs": [
        {
          "name": "stdout",
          "output_type": "stream",
          "text": [
            "tensor([ 0.0542, -0.6922, -0.2629, -0.4876])\n",
            "tensor([[42., 42., 42., 42., 42., 42., 42., 42.]])\n"
          ]
        }
      ],
      "source": [
        "def init_xavier(module):\n",
        "    if type(module) == nn.Linear:\n",
        "        nn.init.xavier_uniform_(module.weight)\n",
        "\n",
        "def init_42(module):\n",
        "    if type(module) == nn.Linear:\n",
        "        nn.init.constant_(module.weight, 42)\n",
        "\n",
        "net[0].apply(init_xavier)\n",
        "net[2].apply(init_42)\n",
        "print(net[0].weight.data[0])\n",
        "print(net[2].weight.data)"
      ]
    },
    {
      "cell_type": "markdown",
      "id": "a578923c",
      "metadata": {},
      "source": "\n### 【**カスタム初期化**】\n\n場合によっては、必要な初期化メソッドが深層学習フレームワークによって提供されていないことがあります。以下の例では、次のような奇妙な分布を使用して、重みパラメータ $w$ の初期化子を定義します。\n\n $$ \\begin{aligned} w \\sim \\begin{cases} U(5, 10) &amp; \\text{ 確率 } \\frac{1}{4} \\ 0 &amp; \\text{ 確率 } \\frac{1} {2} \\ U(-10, -5) &amp; \\text{ 確率 } \\frac{1}{4} \\end{cases} \\end{aligned} $$\n"
    },
    {
      "cell_type": "markdown",
      "id": "f210aab4",
      "metadata": {},
      "source": "\nもう一度、 `net`に適用する`my_init`関数を実装します。\n"
    },
    {
      "cell_type": "code",
      "execution_count": 6,
      "id": "0f97b3ce",
      "metadata": {},
      "outputs": [
        {
          "name": "stdout",
          "output_type": "stream",
          "text": [
            "Init weight torch.Size([8, 4])\n",
            "Init weight torch.Size([1, 8])\n"
          ]
        },
        {
          "data": {
            "text/plain": [
              "tensor([[-8.4801, -0.0000,  0.0000, -5.6451],\n",
              "        [ 5.6075,  0.0000,  5.4012, -5.0333]], grad_fn=<SliceBackward0>)"
            ]
          },
          "execution_count": 6,
          "metadata": {},
          "output_type": "execute_result"
        }
      ],
      "source": [
        "def my_init(module):\n",
        "    if type(module) == nn.Linear:\n",
        "        print(\"Init\", *[(name, param.shape)\n",
        "                        for name, param in module.named_parameters()][0])\n",
        "        nn.init.uniform_(module.weight, -10, 10)\n",
        "        module.weight.data *= module.weight.data.abs() >= 5\n",
        "\n",
        "net.apply(my_init)\n",
        "net[0].weight[:2]"
      ]
    },
    {
      "cell_type": "markdown",
      "id": "51d8e09b",
      "metadata": {},
      "source": "\nパラメータを直接設定するオプションが常にあることに注意してください。\n"
    },
    {
      "cell_type": "code",
      "execution_count": 7,
      "id": "f27b7e0c",
      "metadata": {},
      "outputs": [
        {
          "data": {
            "text/plain": [
              "tensor([42.0000,  1.0000,  1.0000, -4.6451])"
            ]
          },
          "execution_count": 7,
          "metadata": {},
          "output_type": "execute_result"
        }
      ],
      "source": [
        "net[0].weight.data[:] += 1\n",
        "net[0].weight.data[0, 0] = 42\n",
        "net[0].weight.data[0]"
      ]
    },
    {
      "cell_type": "markdown",
      "id": "a83a8486",
      "metadata": {},
      "source": "\n## まとめ\n\n組み込みおよびカスタム初期化子を使用してパラメータを初期化できます。\n\n## 演習\n\nその他の組み込みイニシャライザについては、オンライン ドキュメントを参照してください。\n"
    },
    {
      "cell_type": "markdown",
      "id": "d7187448",
      "metadata": {},
      "source": "\n[ディスカッション](https://discuss.d2l.ai/t/8090)\n"
    }
  ],
  "metadata": {},
  "nbformat": 4,
  "nbformat_minor": 5
}