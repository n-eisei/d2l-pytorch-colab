{
  "cells": [
    {
      "cell_type": "markdown",
      "id": "6a6874dc",
      "metadata": {},
      "source": "\n# 分類のための線形ニューラル ネットワーク\n\n:label: `chap_classification`\n\nすべての仕組みを理解したので、これらのスキルをより幅広い種類のタスクに適用する準備が整いました。分類に向けて方向転換しても、データの読み込み、モデルへの通過、出力の生成、損失の計算、重みに関する勾配の取得、モデルの更新など、ほとんどの作業は同じままです。ただし、ターゲットの正確な形式、出力層のパラメータ化、および損失関数の選択は、*分類*設定に合わせて調整されます。\n\n :begin_tab:toc\n- [ソフトマックス回帰](softmax-regression.ipynb)\n- [画像分類データセット](image-classification-dataset.ipynb)\n- [分類](classification.ipynb)\n- [ソフトマックス回帰-スクラッチ](softmax-regression-scratch.ipynb)\n- [ソフトマックス回帰-簡潔](softmax-regression-concise.ipynb)\n- [一般化-分類](generalization-classification.ipynb)\n- [環境とディストリビューションのシフト](environment-and-distribution-shift.ipynb):end_tab:\n"
    }
  ],
  "metadata": {},
  "nbformat": 4,
  "nbformat_minor": 5
}