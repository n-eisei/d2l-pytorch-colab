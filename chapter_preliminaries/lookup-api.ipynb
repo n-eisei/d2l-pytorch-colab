{
  "cells": [
    {
      "cell_type": "markdown",
      "id": "db1447dd",
      "metadata": {},
      "source": "\n# ドキュメンテーション\n"
    },
    {
      "cell_type": "markdown",
      "id": "24ecd2ac",
      "metadata": {},
      "source": "\nPyTorch の関数とクラスをすべて紹介することはできませんが (情報はすぐに古くなってしまう可能性があります)、 [API ドキュメント](https://pytorch.org/docs/stable/index.html)と追加の[チュートリアル](https://pytorch.org/tutorials/beginner/basics/intro.html)とサンプルがそのようなドキュメントを提供します。このセクションでは、PyTorch API を探索する方法についてのガイダンスを提供します。\n"
    },
    {
      "cell_type": "code",
      "execution_count": 1,
      "id": "4b2f28bd",
      "metadata": {},
      "outputs": [],
      "source": [
        "import torch"
      ]
    },
    {
      "cell_type": "markdown",
      "id": "949de6a7",
      "metadata": {},
      "source": "\n## モジュール内の関数とクラス\n\nモジュール内でどの関数とクラスを呼び出すことができるかを知るために、 `dir`関数を呼び出します。たとえば、(**乱数を生成するためにモジュール内のすべてのプロパティをクエリする**):\n"
    },
    {
      "cell_type": "code",
      "execution_count": 2,
      "id": "7fd7d8e6",
      "metadata": {},
      "outputs": [
        {
          "name": "stdout",
          "output_type": "stream",
          "text": [
            "['AbsTransform', 'AffineTransform', 'Bernoulli', 'Beta', 'Binomial', 'CatTransform', 'Categorical', 'Cauchy', 'Chi2', 'ComposeTransform', 'ContinuousBernoulli', 'CorrCholeskyTransform', 'CumulativeDistributionTransform', 'Dirichlet', 'Distribution', 'ExpTransform', 'Exponential', 'ExponentialFamily', 'FisherSnedecor', 'Gamma', 'Geometric', 'Gumbel', 'HalfCauchy', 'HalfNormal', 'Independent', 'IndependentTransform', 'Kumaraswamy', 'LKJCholesky', 'Laplace', 'LogNormal', 'LogisticNormal', 'LowRankMultivariateNormal', 'LowerCholeskyTransform', 'MixtureSameFamily', 'Multinomial', 'MultivariateNormal', 'NegativeBinomial', 'Normal', 'OneHotCategorical', 'OneHotCategoricalStraightThrough', 'Pareto', 'Poisson', 'PowerTransform', 'RelaxedBernoulli', 'RelaxedOneHotCategorical', 'ReshapeTransform', 'SigmoidTransform', 'SoftmaxTransform', 'SoftplusTransform', 'StackTransform', 'StickBreakingTransform', 'StudentT', 'TanhTransform', 'Transform', 'TransformedDistribution', 'Uniform', 'VonMises', 'Weibull', 'Wishart', '__all__', '__builtins__', '__cached__', '__doc__', '__file__', '__loader__', '__name__', '__package__', '__path__', '__spec__', 'bernoulli', 'beta', 'biject_to', 'binomial', 'categorical', 'cauchy', 'chi2', 'constraint_registry', 'constraints', 'continuous_bernoulli', 'dirichlet', 'distribution', 'exp_family', 'exponential', 'fishersnedecor', 'gamma', 'geometric', 'gumbel', 'half_cauchy', 'half_normal', 'identity_transform', 'independent', 'kl', 'kl_divergence', 'kumaraswamy', 'laplace', 'lkj_cholesky', 'log_normal', 'logistic_normal', 'lowrank_multivariate_normal', 'mixture_same_family', 'multinomial', 'multivariate_normal', 'negative_binomial', 'normal', 'one_hot_categorical', 'pareto', 'poisson', 'register_kl', 'relaxed_bernoulli', 'relaxed_categorical', 'studentT', 'transform_to', 'transformed_distribution', 'transforms', 'uniform', 'utils', 'von_mises', 'weibull', 'wishart']\n"
          ]
        }
      ],
      "source": [
        "print(dir(torch.distributions))"
      ]
    },
    {
      "cell_type": "markdown",
      "id": "ba516ffa",
      "metadata": {},
      "source": "\n一般に、 `__`で始まり __ で終わる関数 (Python の特殊オブジェクト)、または 1 つの`_`で始まる関数 (通常は内部関数) は無視できます。残りの関数名または属性名に基づいて、このモジュールは、一様分布 ( `uniform` )、正規分布 ( `normal` )、および多項分布 ( `multinomial` ) からのサンプリングを含む、乱数を生成するためのさまざまな方法を提供していると推測できます。\n\n## 特定の関数とクラス\n\n特定の関数またはクラスの使用方法に関するより具体的な手順については、 `help`関数を呼び出すことができます。例として、[**テンソルの`ones`関数の使用法を調べてみ**ましょう ]。\n"
    },
    {
      "cell_type": "code",
      "execution_count": 3,
      "id": "a75f599c",
      "metadata": {},
      "outputs": [
        {
          "name": "stdout",
          "output_type": "stream",
          "text": [
            "Help on built-in function ones in module torch:\n",
            "\n",
            "ones(...)\n",
            "    ones(*size, *, out=None, dtype=None, layout=torch.strided, device=None, requires_grad=False) -> Tensor\n",
            "    \n",
            "    Returns a tensor filled with the scalar value `1`, with the shape defined\n",
            "    by the variable argument :attr:`size`.\n",
            "    \n",
            "    Args:\n",
            "        size (int...): a sequence of integers defining the shape of the output tensor.\n",
            "            Can be a variable number of arguments or a collection like a list or tuple.\n",
            "    \n",
            "    Keyword arguments:\n",
            "        out (Tensor, optional): the output tensor.\n",
            "        dtype (:class:`torch.dtype`, optional): the desired data type of returned tensor.\n",
            "            Default: if ``None``, uses a global default (see :func:`torch.set_default_tensor_type`).\n",
            "        layout (:class:`torch.layout`, optional): the desired layout of returned Tensor.\n",
            "            Default: ``torch.strided``.\n",
            "        device (:class:`torch.device`, optional): the desired device of returned tensor.\n",
            "            Default: if ``None``, uses the current device for the default tensor type\n",
            "            (see :func:`torch.set_default_tensor_type`). :attr:`device` will be the CPU\n",
            "            for CPU tensor types and the current CUDA device for CUDA tensor types.\n",
            "        requires_grad (bool, optional): If autograd should record operations on the\n",
            "            returned tensor. Default: ``False``.\n",
            "    \n",
            "    Example::\n",
            "    \n",
            "        >>> torch.ones(2, 3)\n",
            "        tensor([[ 1.,  1.,  1.],\n",
            "                [ 1.,  1.,  1.]])\n",
            "    \n",
            "        >>> torch.ones(5)\n",
            "        tensor([ 1.,  1.,  1.,  1.,  1.])\n",
            "\n"
          ]
        }
      ],
      "source": [
        "help(torch.ones)"
      ]
    },
    {
      "cell_type": "markdown",
      "id": "e699dbf6",
      "metadata": {},
      "source": "\nドキュメントから、 `ones`関数が指定された形状を持つ新しいテンソルを作成し、すべての要素の値を 1 に設定することがわかります。 可能な限り、(**簡単なテストを実行して**) 解釈を確認する必要があります。\n"
    },
    {
      "cell_type": "code",
      "execution_count": 4,
      "id": "4a98f5b1",
      "metadata": {},
      "outputs": [
        {
          "data": {
            "text/plain": [
              "tensor([1., 1., 1., 1.])"
            ]
          },
          "execution_count": 4,
          "metadata": {},
          "output_type": "execute_result"
        }
      ],
      "source": [
        "torch.ones(4)"
      ]
    },
    {
      "cell_type": "markdown",
      "id": "db73d0a3",
      "metadata": {},
      "source": "\nJupyter ノートブックでは、 `?`を使用できます。ドキュメントを別のウィンドウに表示します。例えば`list?` `help(list)`とほぼ同じコンテンツが作成され、新しいブラウザ ウィンドウに表示されます。また、 `list??`のように疑問符を 2 つ使用すると、 , 関数を実装する Python コードも表示されます。\n\n公式ドキュメントには、この本以外にも多くの説明と例が記載されています。私たちは、完全にカバーすることよりも、実用的な問題にすぐに取り掛かることができる重要なユースケースをカバーすることに重点を置いています。また、ライブラリのソース コードを研究して、製品コードの高品質な実装例を確認することをお勧めします。これを行うことで、より優れた科学者になるだけでなく、より優れたエンジニアにもなれるでしょう。\n"
    },
    {
      "cell_type": "markdown",
      "id": "c2ece7fc",
      "metadata": {},
      "source": "\n[ディスカッション](https://discuss.d2l.ai/t/39)\n"
    }
  ],
  "metadata": {},
  "nbformat": 4,
  "nbformat_minor": 5
}