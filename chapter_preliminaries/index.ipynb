{
  "cells": [
    {
      "cell_type": "markdown",
      "id": "685f1a62",
      "metadata": {},
      "source": "\n# 予選\n\n:label: `chap_preliminaries`\n\nディープ ラーニングに本格的に取り組む準備をするには、いくつかのサバイバル スキルが必要です。(i) データを保存および操作するテクニック。 (ii) さまざまなソースからデータを取り込み、前処理するためのライブラリ。 (iii) 高次元データ要素に適用する基本的な線形代数演算の知識。 (iv) 損失関数を減少させるために各パラメータをどの方向に調整するかを決定するのに十分な計算。 (v) 学んだばかりの微積分の多くを忘れることができるように、導関数を自動的に計算する機能。 (vi) 不確実性の下で推論するための主な言語である確率に関するある程度の基本的な流暢さ。 (vii) 行き詰まったときに公式ドキュメントから答えを見つけるためのある程度の適性。\n\nつまり、この章では、本書の技術的な内容の*ほとんどを*理解するために必要な基本事項を簡単に紹介します。\n\n :begin_tab:toc\n-  [ndarray](ndarray.ipynb)\n- [パンダ](pandas.ipynb)\n- [線形代数](linear-algebra.ipynb)\n- [微積分](calculus.ipynb)\n- [オートグラード](autograd.ipynb)\n- [確率](probability.ipynb)\n- [ルックアップ API](lookup-api.ipynb) :end_tab:\n"
    }
  ],
  "metadata": {},
  "nbformat": 4,
  "nbformat_minor": 5
}