{
  "cells": [
    {
      "cell_type": "markdown",
      "id": "c89b4681",
      "metadata": {},
      "source": "\n```\n.. only:: html References ==========\n```\n\n :参考文献: `../d2l.bib`\n"
    }
  ],
  "metadata": {},
  "nbformat": 4,
  "nbformat_minor": 5
}