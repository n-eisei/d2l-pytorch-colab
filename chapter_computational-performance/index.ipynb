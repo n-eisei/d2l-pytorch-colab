{
  "cells": [
    {
      "cell_type": "markdown",
      "id": "fb17be90",
      "metadata": {},
      "source": "\n# 計算パフォーマンス\n\n:label: `chap_performance`\n\nディープ ラーニングでは、通常、データセットとモデルが大きくなり、大量の計算が必要になります。したがって、計算パフォーマンスは非常に重要です。この章では、命令型プログラミング、シンボリック プログラミング、非同期コンピューティング、自動並列処理、およびマルチ GPU コンピューティングなど、コンピューティング パフォーマンスに影響を与える主な要素に焦点を当てます。この章を学習すると、精度に影響を与えることなくトレーニング時間を短縮するなど、前の章で実装したモデルの計算パフォーマンスをさらに向上させることができます。\n\n :begin_tab:toc\n- [ハイブリッド化する](hybridize.ipynb)\n- [非同期計算](async-computation.ipynb)\n- [自動並列処理](auto-parallelism.ipynb)\n- [ハードウェア](hardware.ipynb)\n- [複数のGPU](multiple-gpus.ipynb)\n- [複数のGPU-簡潔](multiple-gpus-concise.ipynb)\n- [パラメータサーバー](parameterserver.ipynb):end_tab:\n"
    }
  ],
  "metadata": {},
  "nbformat": 4,
  "nbformat_minor": 5
}