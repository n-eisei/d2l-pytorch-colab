{
  "cells": [
    {
      "cell_type": "markdown",
      "id": "70a3dae6",
      "metadata": {},
      "source": "\nこのノートブックを実行するには、次の追加ライブラリが必要です。 Colab での実行は実験的なものであることに注意してください。問題がある場合は、Github の問題を報告してください。\n"
    },
    {
      "cell_type": "code",
      "execution_count": null,
      "id": "e79665dc",
      "metadata": {},
      "outputs": [],
      "source": [
        "!pip install d2l==1.0.0-beta0\n"
      ]
    },
    {
      "cell_type": "markdown",
      "id": "b2539030",
      "metadata": {},
      "source": "\n# 自然言語推論とデータセット\n\n:label: `sec_natural-language-inference-and-dataset`\n\n :numref: `sec_sentiment`では、感情分析の問題について説明しました。このタスクの目的は、単一のテキスト シーケンスを一連の感情の極性など、事前定義されたカテゴリに分類することです。ただし、ある文が別の文から推論できるかどうかを判断したり、意味的に同等の文を識別して冗長性を排除したりする必要がある場合、1 つのテキスト シーケンスを分類する方法を知っているだけでは不十分です。代わりに、テキスト シーケンスのペアを推論できる必要があります。\n\n## 自然言語推論\n\n*自然言語推論で*は、両方がテキスト シーケンスである*前提*から*仮説*を推論できるかどうかを研究します。言い換えれば、自然言語推論は、テキスト シーケンスのペア間の論理関係を決定します。このような関係は通常、次の 3 つのタイプに分類されます。\n- *含意*: 仮説は前提から推測できます。\n- *矛盾*: 仮説の否定は前提から推測できます。\n- *中立*: その他すべての場合。\n\n自然言語推論は、テキスト含意の認識タスクとしても知られています。たとえば、次のペアは*含意*としてラベル付けされます。これは、仮説の「愛情を示す」が前提の「抱き合う」から推測できるためです。\n\n> 前提: 二人の女性が抱き合っています。\n\n> 仮説: 2 人の女性が愛情を示しています。\n\n次の例は、「コーディング例を実行している」ということが「スリープ中」ではなく「スリープしていない」ことを示しているため、*矛盾*しています。\n\n> 前提: 男性が Dive into Deep Learning のコーディング例を実行しています。\n\n> 仮説: その男は眠っています。\n\n 3 番目の例は、「私たちのためにパフォーマンスを行っている」という事実から「有名」も「有名ではない」も推測できないため、*中立*関係を示しています。\n\n> 前提: ミュージシャンは私たちのために演奏しています。\n\n> 仮説: そのミュージシャンは有名です。\n\n自然言語推論は、自然言語を理解するための中心的なトピックです。情報検索からオープンドメインの質問応答まで、幅広い用途に利用されています。この問題を研究するには、まず、一般的な自然言語推論ベンチマーク データセットを調査します。\n\n## スタンフォード自然言語推論 (SNLI) データセット\n\n[ **Stanford Natural Language Inference (SNLI) Corpus** ] は、500,000 を超えるラベル付きの英語文ペアのコレクションです (引用: `Bowman.Angeli.Potts.ea.2015` )。抽出した SNLI データセットをダウンロードしてパス`../data/snli_1.0`に保存します。\n"
    },
    {
      "cell_type": "code",
      "execution_count": 1,
      "id": "f85d3698",
      "metadata": {},
      "outputs": [
        {
          "name": "stdout",
          "output_type": "stream",
          "text": [
            "Downloading ../data/snli_1.0.zip from https://nlp.stanford.edu/projects/snli/snli_1.0.zip...\n"
          ]
        }
      ],
      "source": [
        "import os\n",
        "import re\n",
        "import torch\n",
        "from torch import nn\n",
        "from d2l import torch as d2l\n",
        "\n",
        "#@save\n",
        "d2l.DATA_HUB['SNLI'] = (\n",
        "    'https://nlp.stanford.edu/projects/snli/snli_1.0.zip',\n",
        "    '9fcde07509c7e87ec61c640c1b2753d9041758e4')\n",
        "\n",
        "data_dir = d2l.download_extract('SNLI')"
      ]
    },
    {
      "cell_type": "markdown",
      "id": "7ab0115d",
      "metadata": {},
      "source": "\n### [**データセットの読み取り**]\n\n元の SNLI データセットには、実験で実際に必要な情報よりもはるかに豊富な情報が含まれています。したがって、データセットの一部のみを抽出し、前提、仮説、およびそれらのラベルのリストを返す関数`read_snli`を定義します。\n"
    },
    {
      "cell_type": "code",
      "execution_count": 2,
      "id": "577ccb33",
      "metadata": {},
      "outputs": [],
      "source": [
        "#@save\n",
        "def read_snli(data_dir, is_train):\n",
        "    \"\"\"Read the SNLI dataset into premises, hypotheses, and labels.\"\"\"\n",
        "    def extract_text(s):\n",
        "        # Remove information that will not be used by us\n",
        "        s = re.sub('\\\\(', '', s)\n",
        "        s = re.sub('\\\\)', '', s)\n",
        "        # Substitute two or more consecutive whitespace with space\n",
        "        s = re.sub('\\\\s{2,}', ' ', s)\n",
        "        return s.strip()\n",
        "    label_set = {'entailment': 0, 'contradiction': 1, 'neutral': 2}\n",
        "    file_name = os.path.join(data_dir, 'snli_1.0_train.txt'\n",
        "                             if is_train else 'snli_1.0_test.txt')\n",
        "    with open(file_name, 'r') as f:\n",
        "        rows = [row.split('\\t') for row in f.readlines()[1:]]\n",
        "    premises = [extract_text(row[1]) for row in rows if row[0] in label_set]\n",
        "    hypotheses = [extract_text(row[2]) for row in rows if row[0] in label_set]\n",
        "    labels = [label_set[row[0]] for row in rows if row[0] in label_set]\n",
        "    return premises, hypotheses, labels"
      ]
    },
    {
      "cell_type": "markdown",
      "id": "097a6aa9",
      "metadata": {},
      "source": "\nここで、前提と仮説、およびそれらのラベル (「0」、「1」、「2」はそれぞれ「含意」、「矛盾」、「中立」に対応します) の [**最初の 3 つのペアを出力**] しましょう。\n"
    },
    {
      "cell_type": "code",
      "execution_count": 3,
      "id": "3f61c1c6",
      "metadata": {},
      "outputs": [
        {
          "name": "stdout",
          "output_type": "stream",
          "text": [
            "premise: A person on a horse jumps over a broken down airplane .\n",
            "hypothesis: A person is training his horse for a competition .\n",
            "label: 2\n",
            "premise: A person on a horse jumps over a broken down airplane .\n",
            "hypothesis: A person is at a diner , ordering an omelette .\n",
            "label: 1\n",
            "premise: A person on a horse jumps over a broken down airplane .\n",
            "hypothesis: A person is outdoors , on a horse .\n",
            "label: 0\n"
          ]
        }
      ],
      "source": [
        "train_data = read_snli(data_dir, is_train=True)\n",
        "for x0, x1, y in zip(train_data[0][:3], train_data[1][:3], train_data[2][:3]):\n",
        "    print('premise:', x0)\n",
        "    print('hypothesis:', x1)\n",
        "    print('label:', y)"
      ]
    },
    {
      "cell_type": "markdown",
      "id": "3aaa6802",
      "metadata": {},
      "source": "\nトレーニング セットには約 550,000 ペアがあり、テスト セットには約 10,000 ペアがあります。以下は、トレーニング セットとテスト セットの両方で 3 つの [**ラベル「含意」、「矛盾」、および「中立」がバランスが取れている**] ことを示しています。\n"
    },
    {
      "cell_type": "code",
      "execution_count": 4,
      "id": "53b08cfc",
      "metadata": {},
      "outputs": [
        {
          "name": "stdout",
          "output_type": "stream",
          "text": [
            "[183416, 183187, 182764]\n",
            "[3368, 3237, 3219]\n"
          ]
        }
      ],
      "source": [
        "test_data = read_snli(data_dir, is_train=False)\n",
        "for data in [train_data, test_data]:\n",
        "    print([[row for row in data[2]].count(i) for i in range(3)])"
      ]
    },
    {
      "cell_type": "markdown",
      "id": "687cff63",
      "metadata": {},
      "source": "\n### [**データセットをロードするためのクラスの定義**]\n\n以下では、Gluon の`Dataset`クラスを継承して、SNLI データセットをロードするためのクラスを定義します。クラス コンストラクターの引数`num_steps` 、シーケンスの各ミニバッチが同じ形状になるようにテキスト シーケンスの長さを指定します。言い換えると、長いシーケンスの最初の`num_steps`個以降のトークンは削除されますが、特殊なトークン「&amp;lt;pad&amp;gt;」は削除されます。長さが`num_steps`になるまで、短いシーケンスに追加されます。 `__getitem__`関数を実装すると、インデックス`idx`を持つ前提、仮説、ラベルに任意にアクセスできます。\n"
    },
    {
      "cell_type": "code",
      "execution_count": 5,
      "id": "b08c9f3f",
      "metadata": {},
      "outputs": [],
      "source": [
        "#@save\n",
        "class SNLIDataset(torch.utils.data.Dataset):\n",
        "    \"\"\"A customized dataset to load the SNLI dataset.\"\"\"\n",
        "    def __init__(self, dataset, num_steps, vocab=None):\n",
        "        self.num_steps = num_steps\n",
        "        all_premise_tokens = d2l.tokenize(dataset[0])\n",
        "        all_hypothesis_tokens = d2l.tokenize(dataset[1])\n",
        "        if vocab is None:\n",
        "            self.vocab = d2l.Vocab(all_premise_tokens + all_hypothesis_tokens,\n",
        "                                   min_freq=5, reserved_tokens=['<pad>'])\n",
        "        else:\n",
        "            self.vocab = vocab\n",
        "        self.premises = self._pad(all_premise_tokens)\n",
        "        self.hypotheses = self._pad(all_hypothesis_tokens)\n",
        "        self.labels = torch.tensor(dataset[2])\n",
        "        print('read ' + str(len(self.premises)) + ' examples')\n",
        "\n",
        "    def _pad(self, lines):\n",
        "        return torch.tensor([d2l.truncate_pad(\n",
        "            self.vocab[line], self.num_steps, self.vocab['<pad>'])\n",
        "                         for line in lines])\n",
        "\n",
        "    def __getitem__(self, idx):\n",
        "        return (self.premises[idx], self.hypotheses[idx]), self.labels[idx]\n",
        "\n",
        "    def __len__(self):\n",
        "        return len(self.premises)"
      ]
    },
    {
      "cell_type": "markdown",
      "id": "c9f5e888",
      "metadata": {},
      "source": "\n### [**すべてをまとめる**]\n\nこれで、 `read_snli`関数と`SNLIDataset`クラスを呼び出して SNLI データセットをダウンロードし、トレーニング セットとテスト セットの両方の`DataLoader`インスタンスをトレーニング セットの語彙とともに返すことができます。トレーニング セットから構築された語彙をテスト セットの語彙として使用する必要があることに注意してください。その結果、テスト セットからの新しいトークンは、トレーニング セットでトレーニングされたモデルには認識されません。\n"
    },
    {
      "cell_type": "code",
      "execution_count": 6,
      "id": "057732ae",
      "metadata": {},
      "outputs": [],
      "source": [
        "#@save\n",
        "def load_data_snli(batch_size, num_steps=50):\n",
        "    \"\"\"Download the SNLI dataset and return data iterators and vocabulary.\"\"\"\n",
        "    num_workers = d2l.get_dataloader_workers()\n",
        "    data_dir = d2l.download_extract('SNLI')\n",
        "    train_data = read_snli(data_dir, True)\n",
        "    test_data = read_snli(data_dir, False)\n",
        "    train_set = SNLIDataset(train_data, num_steps)\n",
        "    test_set = SNLIDataset(test_data, num_steps, train_set.vocab)\n",
        "    train_iter = torch.utils.data.DataLoader(train_set, batch_size,\n",
        "                                             shuffle=True,\n",
        "                                             num_workers=num_workers)\n",
        "    test_iter = torch.utils.data.DataLoader(test_set, batch_size,\n",
        "                                            shuffle=False,\n",
        "                                            num_workers=num_workers)\n",
        "    return train_iter, test_iter, train_set.vocab"
      ]
    },
    {
      "cell_type": "markdown",
      "id": "63dfac36",
      "metadata": {},
      "source": "\nここでは、バッチ サイズを 128 に、シーケンスの長さを 50 に設定し、 `load_data_snli`関数を呼び出してデータ イテレータとボキャブラリを取得します。次に、語彙サイズを出力します。\n"
    },
    {
      "cell_type": "code",
      "execution_count": 7,
      "id": "d5a4bbed",
      "metadata": {},
      "outputs": [
        {
          "name": "stdout",
          "output_type": "stream",
          "text": [
            "read 549367 examples\n"
          ]
        },
        {
          "name": "stdout",
          "output_type": "stream",
          "text": [
            "read 9824 examples\n"
          ]
        },
        {
          "data": {
            "text/plain": [
              "18678"
            ]
          },
          "execution_count": 7,
          "metadata": {},
          "output_type": "execute_result"
        }
      ],
      "source": [
        "train_iter, test_iter, vocab = load_data_snli(128, 50)\n",
        "len(vocab)"
      ]
    },
    {
      "cell_type": "markdown",
      "id": "49c043fc",
      "metadata": {},
      "source": "\nここで、最初のミニバッチの形状を出力します。センチメント分析とは対照的に、前提と仮説のペアを表す 2 つの入力`X[0]`と`X[1]`があります。\n"
    },
    {
      "cell_type": "code",
      "execution_count": 8,
      "id": "ee2acd5d",
      "metadata": {},
      "outputs": [
        {
          "name": "stdout",
          "output_type": "stream",
          "text": [
            "torch.Size([128, 50])\n",
            "torch.Size([128, 50])\n",
            "torch.Size([128])\n"
          ]
        }
      ],
      "source": [
        "for X, Y in train_iter:\n",
        "    print(X[0].shape)\n",
        "    print(X[1].shape)\n",
        "    print(Y.shape)\n",
        "    break"
      ]
    },
    {
      "cell_type": "markdown",
      "id": "3802796e",
      "metadata": {},
      "source": "\n## まとめ\n- 自然言語推論では、両方がテキスト シーケンスである前提から仮説を推論できるかどうかを研究します。\n- 自然言語推論では、前提と仮説の間の関係には、含意、矛盾、中立が含まれます。\n-  Stanford Natural Language Inference (SNLI) コーパスは、自然言語推論の人気のベンチマーク データセットです。\n\n## 演習\n1. 機械翻訳は長い間、出力翻訳とグラウンドトゥルース翻訳の間の表面的な $n$-gram マッチングに基づいて評価されてきました。自然言語推論を使用して機械翻訳の結果を評価するための尺度を設計できますか?\n1. ハイパーパラメータを変更して語彙サイズを減らすにはどうすればよいでしょうか?\n"
    },
    {
      "cell_type": "markdown",
      "id": "69a4048f",
      "metadata": {},
      "source": "\n[ディスカッション](https://discuss.d2l.ai/t/1388)\n"
    }
  ],
  "metadata": {},
  "nbformat": 4,
  "nbformat_minor": 5
}