{
  "cells": [
    {
      "cell_type": "markdown",
      "id": "fb1b47fd",
      "metadata": {},
      "source": "\n# インストール\n\n:label: `chap_installation`\n\n起動して実行するには、Python を実行する環境、Jupyter Notebook、関連ライブラリ、およびブック自体を実行するために必要なコードが必要です。\n\n##  Minicondaのインストール\n\n最も簡単なオプションは[Miniconda](https://conda.io/en/latest/miniconda.html)をインストールすることです。 Python 3.x バージョンが必要であることに注意してください。マシンに既に conda がインストールされている場合は、次の手順をスキップできます。\n\n Miniconda Web サイトにアクセスし、Python 3.x バージョンとマシン アーキテクチャに基づいてシステムに適切なバージョンを決定します。 Python のバージョンが 3.9 (テスト済みのバージョン) であるとします。 macOS を使用している場合は、名前に「MacOSX」という文字列が含まれる bash スクリプトをダウンロードし、ダウンロード場所に移動して、次のようにインストールを実行します (Intel Mac を例にします)。\n\n Linux ユーザーは、名前に「Linux」という文字列が含まれるファイルをダウンロードし、ダウンロードした場所で次のコマンドを実行します。\n\n次に、 `conda`直接実行できるようにシェルを初期化します。\n\n次に、現在のシェルを閉じて再度開きます。次のように新しい環境を作成できるはずです。\n\nこれで、 `d2l`環境をアクティブ化できます。\n\n## 深層学習フレームワークと`d2l`パッケージのインストール\n\n深層学習フレームワークをインストールする前に、まずマシンに適切な GPU が搭載されているかどうかを確認してください (標準的なラップトップのディスプレイに電力を供給する GPU は、この目的には関係ありません)。たとえば、コンピュータに NVIDIA GPU が搭載されており、 [CUDA が](https://developer.nvidia.com/cuda-downloads)インストールされている場合は、準備は完了です。マシンに GPU が搭載されていない場合でも、まだ心配する必要はありません。 CPU は、最初の数章を読み進めるのに十分な馬力を備えています。より大きなモデルを実行する前に GPU にアクセスする必要があることに注意してください。\n"
    },
    {
      "cell_type": "markdown",
      "id": "7c8a7e04",
      "metadata": {},
      "source": "\n次のように、CPU または GPU のいずれかをサポートする PyTorch (指定されたバージョンは執筆時点でテストされています) をインストールできます。\n"
    },
    {
      "cell_type": "markdown",
      "id": "c0293937",
      "metadata": {},
      "source": "\n次のステップは、本書全体で使用される頻繁に使用される関数とクラスをカプセル化するために開発した`d2l`パッケージをインストールすることです。\n\n## コードのダウンロードと実行\n\n次に、ブックの各コード ブロックを実行できるようにノートブックをダウンロードします。 [D2L.ai Web サイト](https://d2l.ai/)の HTML ページの上部にある [ノートブック] タブをクリックするだけでコードをダウンロードし、解凍します。あるいは、次のようにコマンド ラインからノートブックを取得することもできます。\n"
    },
    {
      "cell_type": "markdown",
      "id": "a1749a15",
      "metadata": {},
      "source": "\n```\nmkdir d2l-en &amp;&amp; cd d2l-en curl https://d2l.ai/d2l-en.zip -o d2l-en.zip unzip d2l-en.zip &amp;&amp; rm d2l-en.zip cd pytorch\n```\n"
    },
    {
      "cell_type": "markdown",
      "id": "2799f400",
      "metadata": {},
      "source": "\n`unzip`をまだインストールしていない場合は、まず`sudo apt-get install unzip`を実行します。これで、次のコマンドを実行して Jupyter Notebook サーバーを起動できます。\n\nこの時点で、Web ブラウザで http://localhost:8888 を開くことができます (すでに自動的に開かれている可能性があります)。次に、本の各セクションのコードを実行します。新しいコマンド ライン ウィンドウを開くたびに、D2L ノートブックを実行する前、またはパッケージ (深層学習フレームワークまたは`d2l`パッケージのいずれか) を更新する前に、 `conda activate d2l`を実行してランタイム環境をアクティブ化する必要があります。環境を終了するには、 `conda deactivate`を実行します。\n"
    },
    {
      "cell_type": "markdown",
      "id": "a356694c",
      "metadata": {},
      "source": "\n[ディスカッション](https://discuss.d2l.ai/t/24)\n"
    }
  ],
  "metadata": {},
  "nbformat": 4,
  "nbformat_minor": 5
}