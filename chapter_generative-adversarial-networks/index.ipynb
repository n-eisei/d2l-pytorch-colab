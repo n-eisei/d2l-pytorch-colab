{
  "cells": [
    {
      "cell_type": "markdown",
      "id": "babc955d",
      "metadata": {},
      "source": "\n# 敵対的生成ネットワーク\n\n:ラベル: `chap_gans`\n\n :begin_tab:toc\n- [ガン](gan.ipynb)\n- [dcgan](dcgan.ipynb) :end_tab:\n"
    }
  ],
  "metadata": {},
  "nbformat": 4,
  "nbformat_minor": 5
}